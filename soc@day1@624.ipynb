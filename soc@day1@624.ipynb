{
 "cells": [
  {
   "cell_type": "code",
   "execution_count": 47,
   "id": "d8ab5ddb",
   "metadata": {},
   "outputs": [
    {
     "data": {
      "text/plain": [
       "array([1, 2, 3, 4, 5, 6])"
      ]
     },
     "execution_count": 47,
     "metadata": {},
     "output_type": "execute_result"
    }
   ],
   "source": [
    "l=(1,2,3,4,5,6)\n",
    "n=np.array(l)\n",
    "n"
   ]
  },
  {
   "cell_type": "code",
   "execution_count": 48,
   "id": "c9a1ae62",
   "metadata": {},
   "outputs": [
    {
     "data": {
      "text/plain": [
       "array({1, 2, 3, 4, 5, 6}, dtype=object)"
      ]
     },
     "execution_count": 48,
     "metadata": {},
     "output_type": "execute_result"
    }
   ],
   "source": [
    "l1={1,2,3,4,5,6}\n",
    "n1=np.array(l1)\n",
    "n1"
   ]
  },
  {
   "cell_type": "code",
   "execution_count": 49,
   "id": "3db443dd",
   "metadata": {},
   "outputs": [
    {
     "data": {
      "text/plain": [
       "array([1, 2, 3, 4, 5, 6])"
      ]
     },
     "execution_count": 49,
     "metadata": {},
     "output_type": "execute_result"
    }
   ],
   "source": [
    "l2=[1,2,3,4,5,6]\n",
    "n2=np.array(l2)\n",
    "n2"
   ]
  },
  {
   "cell_type": "code",
   "execution_count": 50,
   "id": "f412f496",
   "metadata": {},
   "outputs": [
    {
     "data": {
      "text/plain": [
       "array([1, 2, 3, 4, 5, 6, 7])"
      ]
     },
     "execution_count": 50,
     "metadata": {},
     "output_type": "execute_result"
    }
   ],
   "source": [
    "#to append values to array append() is used\n",
    "\n",
    "#single element append\n",
    "n3=np.append(n2,7)\n",
    "n3"
   ]
  },
  {
   "cell_type": "code",
   "execution_count": 51,
   "id": "1a4a8d35",
   "metadata": {},
   "outputs": [
    {
     "data": {
      "text/plain": [
       "array([1, 2, 3, 4, 5, 6, 7, 8, 9])"
      ]
     },
     "execution_count": 51,
     "metadata": {},
     "output_type": "execute_result"
    }
   ],
   "source": [
    "#appending multiple elements\n",
    "\n",
    "n4=np.append(n3,[8,9])\n",
    "n4"
   ]
  },
  {
   "cell_type": "code",
   "execution_count": 52,
   "id": "957ce215",
   "metadata": {},
   "outputs": [
    {
     "data": {
      "text/plain": [
       "array([ 1,  2,  3,  4,  5,  6,  7,  8,  9, 10])"
      ]
     },
     "execution_count": 52,
     "metadata": {},
     "output_type": "execute_result"
    }
   ],
   "source": [
    "#to insert values to array at specified index insert() is used \n",
    "\n",
    "#inserting single element\n",
    "\n",
    "n5=np.insert(n4,9,10)\n",
    "n5"
   ]
  },
  {
   "cell_type": "code",
   "execution_count": 54,
   "id": "eb34f478",
   "metadata": {},
   "outputs": [
    {
     "data": {
      "text/plain": [
       "array([ 1,  2,  3,  4,  5,  6,  7,  8,  9, 10, 11, 12, 13])"
      ]
     },
     "execution_count": 54,
     "metadata": {},
     "output_type": "execute_result"
    }
   ],
   "source": [
    "#to insert multiple elements at required index\n",
    "\n",
    "n6=np.insert(n5,10,[11,12,13])\n",
    "n6"
   ]
  },
  {
   "cell_type": "code",
   "execution_count": 55,
   "id": "f4406d47",
   "metadata": {},
   "outputs": [
    {
     "data": {
      "text/plain": [
       "array([ 1,  2,  3,  4,  5,  6,  7,  8,  9, 10, 11, 12])"
      ]
     },
     "execution_count": 55,
     "metadata": {},
     "output_type": "execute_result"
    }
   ],
   "source": [
    "#to delete values in array delete() is used\n",
    "\n",
    "n7=np.delete(n6,np.where(n6==13))\n",
    "n7"
   ]
  },
  {
   "cell_type": "code",
   "execution_count": 56,
   "id": "a1345b1e",
   "metadata": {},
   "outputs": [
    {
     "data": {
      "text/plain": [
       "array([1, 2, 3, 4, 5, 6, 7, 8, 9])"
      ]
     },
     "execution_count": 56,
     "metadata": {},
     "output_type": "execute_result"
    }
   ],
   "source": [
    "#to delete multiple values in array using setdiff1d()\n",
    "\n",
    "n8=np.setdiff1d(n7,[10,11,12])\n",
    "n8"
   ]
  },
  {
   "cell_type": "code",
   "execution_count": 58,
   "id": "ba2cfc27",
   "metadata": {},
   "outputs": [
    {
     "data": {
      "text/plain": [
       "array([1, 2, 3, 4, 5, 6])"
      ]
     },
     "execution_count": 58,
     "metadata": {},
     "output_type": "execute_result"
    }
   ],
   "source": [
    "#to delete multiple values based on index\n",
    "\n",
    "n9=np.delete(n8,[6,7,8])\n",
    "n9"
   ]
  },
  {
   "cell_type": "code",
   "execution_count": 59,
   "id": "4e7287c5",
   "metadata": {},
   "outputs": [
    {
     "data": {
      "text/plain": [
       "array([ True,  True,  True,  True, False, False])"
      ]
     },
     "execution_count": 59,
     "metadata": {},
     "output_type": "execute_result"
    }
   ],
   "source": [
    "#check condition and print boolean values either TRUE or FALSE\n",
    "\n",
    "n9<5"
   ]
  },
  {
   "cell_type": "code",
   "execution_count": 61,
   "id": "8af0705d",
   "metadata": {},
   "outputs": [
    {
     "data": {
      "text/plain": [
       "array([1, 2, 3, 4])"
      ]
     },
     "execution_count": 61,
     "metadata": {},
     "output_type": "execute_result"
    }
   ],
   "source": [
    "#check conditions and print value if it is true\n",
    "\n",
    "n9[n9<5]"
   ]
  },
  {
   "cell_type": "code",
   "execution_count": 62,
   "id": "fdd85818",
   "metadata": {},
   "outputs": [
    {
     "data": {
      "text/plain": [
       "array([ True,  True,  True,  True, False, False])"
      ]
     },
     "execution_count": 62,
     "metadata": {},
     "output_type": "execute_result"
    }
   ],
   "source": [
    "#while checking multiple conditions and display boolean values\n",
    "\n",
    "(n9<5) & (n9>0)"
   ]
  },
  {
   "cell_type": "code",
   "execution_count": 63,
   "id": "9c7d62a7",
   "metadata": {},
   "outputs": [
    {
     "data": {
      "text/plain": [
       "array([1, 2, 3, 4])"
      ]
     },
     "execution_count": 63,
     "metadata": {},
     "output_type": "execute_result"
    }
   ],
   "source": [
    "#while checking multiple conditions and display values which satisfies condition\n",
    "\n",
    "n9[(n9<5) & (n9>0)]"
   ]
  },
  {
   "cell_type": "code",
   "execution_count": 68,
   "id": "463e9b6d",
   "metadata": {},
   "outputs": [],
   "source": [
    "n9[n9==6]=10"
   ]
  },
  {
   "cell_type": "code",
   "execution_count": 69,
   "id": "d44cc69d",
   "metadata": {},
   "outputs": [
    {
     "data": {
      "text/plain": [
       "array([ 1,  2,  3,  4,  5, 10])"
      ]
     },
     "execution_count": 69,
     "metadata": {},
     "output_type": "execute_result"
    }
   ],
   "source": [
    "n9"
   ]
  },
  {
   "cell_type": "code",
   "execution_count": 70,
   "id": "96ea1ec9",
   "metadata": {},
   "outputs": [
    {
     "data": {
      "text/plain": [
       "array([0., 0., 0., 0., 0.])"
      ]
     },
     "execution_count": 70,
     "metadata": {},
     "output_type": "execute_result"
    }
   ],
   "source": [
    "#to display zeros\n",
    "\n",
    "np.zeros(5)"
   ]
  },
  {
   "cell_type": "code",
   "execution_count": 71,
   "id": "b866de6a",
   "metadata": {},
   "outputs": [
    {
     "data": {
      "text/plain": [
       "array([1., 1., 1., 1., 1.])"
      ]
     },
     "execution_count": 71,
     "metadata": {},
     "output_type": "execute_result"
    }
   ],
   "source": [
    "#to display ones\n",
    "\n",
    "np.ones(5)"
   ]
  },
  {
   "cell_type": "code",
   "execution_count": 72,
   "id": "b30a5606",
   "metadata": {},
   "outputs": [
    {
     "data": {
      "text/plain": [
       "array([1, 1, 1, 1, 1])"
      ]
     },
     "execution_count": 72,
     "metadata": {},
     "output_type": "execute_result"
    }
   ],
   "source": [
    "np.ones(5,dtype=int)"
   ]
  },
  {
   "cell_type": "code",
   "execution_count": 74,
   "id": "489d124c",
   "metadata": {},
   "outputs": [
    {
     "data": {
      "text/plain": [
       "array([[0., 0., 0., 0.],\n",
       "       [0., 0., 0., 0.]])"
      ]
     },
     "execution_count": 74,
     "metadata": {},
     "output_type": "execute_result"
    }
   ],
   "source": [
    "np.zeros([2,4])"
   ]
  },
  {
   "cell_type": "code",
   "execution_count": 75,
   "id": "838ab82f",
   "metadata": {},
   "outputs": [
    {
     "data": {
      "text/plain": [
       "array([[1.+0.j, 1.+0.j, 1.+0.j],\n",
       "       [1.+0.j, 1.+0.j, 1.+0.j],\n",
       "       [1.+0.j, 1.+0.j, 1.+0.j]])"
      ]
     },
     "execution_count": 75,
     "metadata": {},
     "output_type": "execute_result"
    }
   ],
   "source": [
    "np.ones([3,3],dtype='complex')"
   ]
  },
  {
   "cell_type": "code",
   "execution_count": 77,
   "id": "c1c66596",
   "metadata": {},
   "outputs": [
    {
     "data": {
      "text/plain": [
       "array([[0., 0., 0.],\n",
       "       [0., 0., 0.],\n",
       "       [0., 0., 0.]])"
      ]
     },
     "execution_count": 77,
     "metadata": {},
     "output_type": "execute_result"
    }
   ],
   "source": [
    "np.zeros([3,3],dtype=float)"
   ]
  },
  {
   "cell_type": "code",
   "execution_count": 78,
   "id": "d5e7fd3a",
   "metadata": {},
   "outputs": [
    {
     "data": {
      "text/plain": [
       "array([[0, 0, 0],\n",
       "       [0, 0, 0],\n",
       "       [0, 0, 0]])"
      ]
     },
     "execution_count": 78,
     "metadata": {},
     "output_type": "execute_result"
    }
   ],
   "source": [
    "np.zeros([3,3],dtype=int)"
   ]
  },
  {
   "cell_type": "code",
   "execution_count": 79,
   "id": "fb9e225a",
   "metadata": {},
   "outputs": [
    {
     "data": {
      "text/plain": [
       "[1, 2, 3, 4, 5, 10]"
      ]
     },
     "execution_count": 79,
     "metadata": {},
     "output_type": "execute_result"
    }
   ],
   "source": [
    "n9.tolist()"
   ]
  },
  {
   "cell_type": "code",
   "execution_count": null,
   "id": "e69d4608",
   "metadata": {},
   "outputs": [],
   "source": []
  }
 ],
 "metadata": {
  "kernelspec": {
   "display_name": "Python 3 (ipykernel)",
   "language": "python",
   "name": "python3"
  },
  "language_info": {
   "codemirror_mode": {
    "name": "ipython",
    "version": 3
   },
   "file_extension": ".py",
   "mimetype": "text/x-python",
   "name": "python",
   "nbconvert_exporter": "python",
   "pygments_lexer": "ipython3",
   "version": "3.10.9"
  }
 },
 "nbformat": 4,
 "nbformat_minor": 5
}
