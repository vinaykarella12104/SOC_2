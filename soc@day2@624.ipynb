{
 "cells": [
  {
   "cell_type": "code",
   "execution_count": 15,
   "id": "7a05e8ad",
   "metadata": {},
   "outputs": [
    {
     "data": {
      "text/plain": [
       "array([0, 1, 2, 3, 4, 5, 6, 7, 8, 9])"
      ]
     },
     "execution_count": 15,
     "metadata": {},
     "output_type": "execute_result"
    }
   ],
   "source": [
    "np.arange(10) #for creating arange of elements"
   ]
  },
  {
   "cell_type": "code",
   "execution_count": 14,
   "id": "db88695c",
   "metadata": {},
   "outputs": [
    {
     "data": {
      "text/plain": [
       "array([ 1,  2,  3,  4,  5,  6,  7,  8,  9, 10, 11])"
      ]
     },
     "execution_count": 14,
     "metadata": {},
     "output_type": "execute_result"
    }
   ],
   "source": [
    "import numpy as np\n",
    "n=[1,2,3,4,5,6,7,8,9,10,11]\n",
    "a=np.array(n) #converting list into array\n",
    "a"
   ]
  },
  {
   "cell_type": "code",
   "execution_count": 11,
   "id": "106f8b5c",
   "metadata": {},
   "outputs": [],
   "source": [
    "#it is used to reshape() the existing array\n",
    "m=a.reshape(11,1)"
   ]
  },
  {
   "cell_type": "code",
   "execution_count": 12,
   "id": "7d5cccdc",
   "metadata": {},
   "outputs": [
    {
     "data": {
      "text/plain": [
       "array([[ 1],\n",
       "       [ 2],\n",
       "       [ 3],\n",
       "       [ 4],\n",
       "       [ 5],\n",
       "       [ 6],\n",
       "       [ 7],\n",
       "       [ 8],\n",
       "       [ 9],\n",
       "       [10],\n",
       "       [11]])"
      ]
     },
     "execution_count": 12,
     "metadata": {},
     "output_type": "execute_result"
    }
   ],
   "source": [
    "m"
   ]
  },
  {
   "cell_type": "code",
   "execution_count": 27,
   "id": "057fa0b5",
   "metadata": {},
   "outputs": [
    {
     "data": {
      "text/plain": [
       "array([[0, 1, 2, 3, 4],\n",
       "       [5, 6, 7, 8, 9]])"
      ]
     },
     "execution_count": 27,
     "metadata": {},
     "output_type": "execute_result"
    }
   ],
   "source": [
    "np.arange(10).reshape(2,5)"
   ]
  },
  {
   "cell_type": "code",
   "execution_count": 13,
   "id": "3835f3f8",
   "metadata": {},
   "outputs": [
    {
     "data": {
      "text/plain": [
       "array([2, 3, 4])"
      ]
     },
     "execution_count": 13,
     "metadata": {},
     "output_type": "execute_result"
    }
   ],
   "source": [
    "a[1:4] #slicing"
   ]
  },
  {
   "cell_type": "code",
   "execution_count": 29,
   "id": "eeff51c3",
   "metadata": {},
   "outputs": [
    {
     "data": {
      "text/plain": [
       "array([11])"
      ]
     },
     "execution_count": 29,
     "metadata": {},
     "output_type": "execute_result"
    }
   ],
   "source": [
    "a[-1:]"
   ]
  },
  {
   "cell_type": "code",
   "execution_count": null,
   "id": "c828ef01",
   "metadata": {},
   "outputs": [],
   "source": []
  },
  {
   "cell_type": "code",
   "execution_count": 21,
   "id": "af5ac284",
   "metadata": {},
   "outputs": [],
   "source": [
    "#identity matrix can be created using two functions\n",
    "#eye() ->used to define both user defined rows and columns\n",
    "#identity() ->used to define same number of rows and columns \n",
    "md1=np.eye(5,6) #for identity  matrix 2 arguments or 1 arguments i.e 5rows,6columns"
   ]
  },
  {
   "cell_type": "code",
   "execution_count": 23,
   "id": "acaa7a0a",
   "metadata": {},
   "outputs": [
    {
     "data": {
      "text/plain": [
       "array([[1., 0., 0., 0., 0., 0.],\n",
       "       [0., 1., 0., 0., 0., 0.],\n",
       "       [0., 0., 1., 0., 0., 0.],\n",
       "       [0., 0., 0., 1., 0., 0.],\n",
       "       [0., 0., 0., 0., 1., 0.]])"
      ]
     },
     "execution_count": 23,
     "metadata": {},
     "output_type": "execute_result"
    }
   ],
   "source": [
    "md1"
   ]
  },
  {
   "cell_type": "code",
   "execution_count": 19,
   "id": "8670ac76",
   "metadata": {},
   "outputs": [],
   "source": [
    "md=np.identity(3) #identity matrix range can be only 1 argument i.e 3rows,3columns"
   ]
  },
  {
   "cell_type": "code",
   "execution_count": 20,
   "id": "dacf47f4",
   "metadata": {},
   "outputs": [
    {
     "data": {
      "text/plain": [
       "array([[1., 0., 0.],\n",
       "       [0., 1., 0.],\n",
       "       [0., 0., 1.]])"
      ]
     },
     "execution_count": 20,
     "metadata": {},
     "output_type": "execute_result"
    }
   ],
   "source": [
    "md"
   ]
  },
  {
   "cell_type": "code",
   "execution_count": 30,
   "id": "c9a07ab1",
   "metadata": {},
   "outputs": [],
   "source": [
    "m=np.arange(25).reshape(5,5)"
   ]
  },
  {
   "cell_type": "code",
   "execution_count": 31,
   "id": "e935b5b6",
   "metadata": {},
   "outputs": [
    {
     "data": {
      "text/plain": [
       "array([[ 0,  1,  2,  3,  4],\n",
       "       [ 5,  6,  7,  8,  9],\n",
       "       [10, 11, 12, 13, 14],\n",
       "       [15, 16, 17, 18, 19],\n",
       "       [20, 21, 22, 23, 24]])"
      ]
     },
     "execution_count": 31,
     "metadata": {},
     "output_type": "execute_result"
    }
   ],
   "source": [
    "m"
   ]
  },
  {
   "cell_type": "code",
   "execution_count": 34,
   "id": "9002528e",
   "metadata": {},
   "outputs": [
    {
     "data": {
      "text/plain": [
       "array([[1, 2, 3],\n",
       "       [6, 7, 8]])"
      ]
     },
     "execution_count": 34,
     "metadata": {},
     "output_type": "execute_result"
    }
   ],
   "source": [
    "#multidimensional array slicing\n",
    "#ar2[row_start:row_end,column_start:column_end]\n",
    "m[0:2,1:4]"
   ]
  },
  {
   "cell_type": "code",
   "execution_count": 33,
   "id": "2dabe615",
   "metadata": {},
   "outputs": [
    {
     "data": {
      "text/plain": [
       "array([[ 6,  7],\n",
       "       [11, 12]])"
      ]
     },
     "execution_count": 33,
     "metadata": {},
     "output_type": "execute_result"
    }
   ],
   "source": [
    "m[1:3,1:3] #positive indexing"
   ]
  },
  {
   "cell_type": "code",
   "execution_count": 44,
   "id": "762a8bc5",
   "metadata": {},
   "outputs": [
    {
     "data": {
      "text/plain": [
       "array([[ 6,  7],\n",
       "       [11, 12]])"
      ]
     },
     "execution_count": 44,
     "metadata": {},
     "output_type": "execute_result"
    }
   ],
   "source": [
    "m[-4:-2,-4:-2] #using negative indexing "
   ]
  },
  {
   "cell_type": "code",
   "execution_count": 47,
   "id": "bab990df",
   "metadata": {},
   "outputs": [
    {
     "data": {
      "text/plain": [
       "6.0"
      ]
     },
     "execution_count": 47,
     "metadata": {},
     "output_type": "execute_result"
    }
   ],
   "source": [
    "np.mean(a)"
   ]
  },
  {
   "cell_type": "code",
   "execution_count": 48,
   "id": "52158a50",
   "metadata": {},
   "outputs": [
    {
     "data": {
      "text/plain": [
       "24.5"
      ]
     },
     "execution_count": 48,
     "metadata": {},
     "output_type": "execute_result"
    }
   ],
   "source": [
    "np.arange(50).mean()"
   ]
  },
  {
   "cell_type": "code",
   "execution_count": 49,
   "id": "0045ae4d",
   "metadata": {},
   "outputs": [],
   "source": [
    "ar3=np.arange(50).reshape(5,10)"
   ]
  },
  {
   "cell_type": "code",
   "execution_count": 50,
   "id": "3bba17e7",
   "metadata": {},
   "outputs": [
    {
     "data": {
      "text/plain": [
       "array([[ 0,  1,  2,  3,  4,  5,  6,  7,  8,  9],\n",
       "       [10, 11, 12, 13, 14, 15, 16, 17, 18, 19],\n",
       "       [20, 21, 22, 23, 24, 25, 26, 27, 28, 29],\n",
       "       [30, 31, 32, 33, 34, 35, 36, 37, 38, 39],\n",
       "       [40, 41, 42, 43, 44, 45, 46, 47, 48, 49]])"
      ]
     },
     "execution_count": 50,
     "metadata": {},
     "output_type": "execute_result"
    }
   ],
   "source": [
    "ar3"
   ]
  },
  {
   "cell_type": "code",
   "execution_count": 59,
   "id": "5e601e52",
   "metadata": {},
   "outputs": [
    {
     "data": {
      "text/plain": [
       "array([[27],\n",
       "       [37]])"
      ]
     },
     "execution_count": 59,
     "metadata": {},
     "output_type": "execute_result"
    }
   ],
   "source": [
    "ar3[-3:-1,-3:-2]"
   ]
  },
  {
   "cell_type": "code",
   "execution_count": 62,
   "id": "4f269090",
   "metadata": {},
   "outputs": [
    {
     "data": {
      "text/plain": [
       "1225"
      ]
     },
     "execution_count": 62,
     "metadata": {},
     "output_type": "execute_result"
    }
   ],
   "source": [
    "np.sum(ar3)"
   ]
  },
  {
   "cell_type": "code",
   "execution_count": 60,
   "id": "35a77288",
   "metadata": {},
   "outputs": [
    {
     "data": {
      "text/plain": [
       "array([100, 105, 110, 115, 120, 125, 130, 135, 140, 145])"
      ]
     },
     "execution_count": 60,
     "metadata": {},
     "output_type": "execute_result"
    }
   ],
   "source": [
    "np.sum(ar3,axis=0) #to add based on column wise axis=0"
   ]
  },
  {
   "cell_type": "code",
   "execution_count": 61,
   "id": "b46dd0fe",
   "metadata": {},
   "outputs": [
    {
     "data": {
      "text/plain": [
       "array([ 45, 145, 245, 345, 445])"
      ]
     },
     "execution_count": 61,
     "metadata": {},
     "output_type": "execute_result"
    }
   ],
   "source": [
    "np.sum(ar3,axis=1) #to add based on column wise axis=1"
   ]
  },
  {
   "cell_type": "code",
   "execution_count": null,
   "id": "d567c464",
   "metadata": {},
   "outputs": [],
   "source": [
    "#mean -->average\n",
    "#median -->middle value\n",
    "#mode -->repeated value\n",
    "#variance -->median/total number of elements\n",
    "#standard deviation -->square root of variance"
   ]
  },
  {
   "cell_type": "code",
   "execution_count": 64,
   "id": "5768ea0e",
   "metadata": {},
   "outputs": [
    {
     "data": {
      "text/plain": [
       "24.5"
      ]
     },
     "execution_count": 64,
     "metadata": {},
     "output_type": "execute_result"
    }
   ],
   "source": [
    "np.mean(ar3)"
   ]
  },
  {
   "cell_type": "code",
   "execution_count": 63,
   "id": "37541ef3",
   "metadata": {},
   "outputs": [
    {
     "data": {
      "text/plain": [
       "24.5"
      ]
     },
     "execution_count": 63,
     "metadata": {},
     "output_type": "execute_result"
    }
   ],
   "source": [
    "np.median(ar3)"
   ]
  },
  {
   "cell_type": "code",
   "execution_count": 79,
   "id": "38e70894",
   "metadata": {},
   "outputs": [
    {
     "data": {
      "text/plain": [
       "208.25"
      ]
     },
     "execution_count": 79,
     "metadata": {},
     "output_type": "execute_result"
    }
   ],
   "source": [
    "var=np.var(ar3) #variance\n",
    "var"
   ]
  },
  {
   "cell_type": "code",
   "execution_count": 83,
   "id": "fbc8cc9b",
   "metadata": {},
   "outputs": [
    {
     "data": {
      "text/plain": [
       "14.430869689661812"
      ]
     },
     "execution_count": 83,
     "metadata": {},
     "output_type": "execute_result"
    }
   ],
   "source": [
    "std=np.sqrt(var) #standard deviation\n",
    "std"
   ]
  },
  {
   "cell_type": "code",
   "execution_count": 96,
   "id": "2d96fd1a",
   "metadata": {},
   "outputs": [
    {
     "data": {
      "text/plain": [
       "array([  0.,  25.,  50.,  75., 100.])"
      ]
     },
     "execution_count": 96,
     "metadata": {},
     "output_type": "execute_result"
    }
   ],
   "source": [
    "#linespace()\n",
    "#It is used to print the evenly seperated point between two range values\n",
    "np.linspace(0,100,5) #linspace(star,end,number of parts)"
   ]
  },
  {
   "cell_type": "code",
   "execution_count": 93,
   "id": "dfa21dd2",
   "metadata": {},
   "outputs": [
    {
     "data": {
      "text/plain": [
       "array([ 0,  2,  5,  7, 10])"
      ]
     },
     "execution_count": 93,
     "metadata": {},
     "output_type": "execute_result"
    }
   ],
   "source": [
    "np.linspace(0,10,5,dtype=int) #dtype for converting datatype"
   ]
  },
  {
   "cell_type": "code",
   "execution_count": 101,
   "id": "d67ebe01",
   "metadata": {},
   "outputs": [
    {
     "data": {
      "text/plain": [
       "(array([  0,  25,  50,  75, 100]), 25.0)"
      ]
     },
     "execution_count": 101,
     "metadata": {},
     "output_type": "execute_result"
    }
   ],
   "source": [
    "np.linspace(0,100,5,dtype=int,retstep=True)"
   ]
  },
  {
   "cell_type": "code",
   "execution_count": 125,
   "id": "a48afe4a",
   "metadata": {},
   "outputs": [
    {
     "data": {
      "text/plain": [
       "20"
      ]
     },
     "execution_count": 125,
     "metadata": {},
     "output_type": "execute_result"
    }
   ],
   "source": [
    "#random module\n",
    "#np.random.randint(start,end)\n",
    "np.random.randint(0,70)"
   ]
  },
  {
   "cell_type": "code",
   "execution_count": 108,
   "id": "54842b91",
   "metadata": {},
   "outputs": [
    {
     "data": {
      "text/plain": [
       "80"
      ]
     },
     "execution_count": 108,
     "metadata": {},
     "output_type": "execute_result"
    }
   ],
   "source": [
    "#np.random.randint(range)\n",
    "np.random.randint(100)"
   ]
  },
  {
   "cell_type": "code",
   "execution_count": 153,
   "id": "7e8b0833",
   "metadata": {},
   "outputs": [
    {
     "data": {
      "text/plain": [
       "array([31, 40])"
      ]
     },
     "execution_count": 153,
     "metadata": {},
     "output_type": "execute_result"
    }
   ],
   "source": [
    "#np.random.randint(start,end,no_of_values)\n",
    "np.random.randint(30,41,2)"
   ]
  },
  {
   "cell_type": "code",
   "execution_count": 159,
   "id": "4b73664d",
   "metadata": {},
   "outputs": [
    {
     "data": {
      "text/plain": [
       "0.47735304334467943"
      ]
     },
     "execution_count": 159,
     "metadata": {},
     "output_type": "execute_result"
    }
   ],
   "source": [
    "#rand()\n",
    "#To get the randomly generated values from 0 to 1,based on uniform distribution\n",
    "np.random.rand(5)"
   ]
  },
  {
   "cell_type": "code",
   "execution_count": 161,
   "id": "f972b2d0",
   "metadata": {},
   "outputs": [
    {
     "data": {
      "text/plain": [
       "array([[-0.76417891,  1.31001105,  1.40701478, -0.02344011],\n",
       "       [ 1.0151868 ,  0.68832914, -0.72710775,  0.13625374],\n",
       "       [ 0.67526043,  0.33196923,  2.14953159, -0.188485  ],\n",
       "       [ 0.70426608,  1.69517965, -0.29002529,  1.33744215],\n",
       "       [ 0.80664907, -0.41753221,  0.92890037,  1.01943712]])"
      ]
     },
     "execution_count": 161,
     "metadata": {},
     "output_type": "execute_result"
    }
   ],
   "source": [
    "#normalised distribution\n",
    "np.random.randn(5,4)"
   ]
  },
  {
   "cell_type": "code",
   "execution_count": 162,
   "id": "22cb7357",
   "metadata": {},
   "outputs": [
    {
     "data": {
      "text/plain": [
       "1"
      ]
     },
     "execution_count": 162,
     "metadata": {},
     "output_type": "execute_result"
    }
   ],
   "source": [
    "a.min() #min() -->for finding min value "
   ]
  },
  {
   "cell_type": "code",
   "execution_count": 163,
   "id": "7ec749d1",
   "metadata": {},
   "outputs": [
    {
     "data": {
      "text/plain": [
       "11"
      ]
     },
     "execution_count": 163,
     "metadata": {},
     "output_type": "execute_result"
    }
   ],
   "source": [
    "a.max() #max() -->for finding max value"
   ]
  },
  {
   "cell_type": "code",
   "execution_count": 169,
   "id": "b987a03e",
   "metadata": {},
   "outputs": [
    {
     "data": {
      "text/plain": [
       "array([0, 1, 2, 3, 4, 5, 6, 7, 8, 9])"
      ]
     },
     "execution_count": 169,
     "metadata": {},
     "output_type": "execute_result"
    }
   ],
   "source": [
    "a=np.arange(10)\n",
    "a"
   ]
  },
  {
   "cell_type": "code",
   "execution_count": 181,
   "id": "b1712ad9",
   "metadata": {},
   "outputs": [
    {
     "data": {
      "text/plain": [
       "9"
      ]
     },
     "execution_count": 181,
     "metadata": {},
     "output_type": "execute_result"
    }
   ],
   "source": [
    "a.argmax() #argmax() -->index of max value in array"
   ]
  },
  {
   "cell_type": "code",
   "execution_count": 183,
   "id": "16df24cb",
   "metadata": {},
   "outputs": [
    {
     "data": {
      "text/plain": [
       "0"
      ]
     },
     "execution_count": 183,
     "metadata": {},
     "output_type": "execute_result"
    }
   ],
   "source": [
    "a.argmin() #argmin() -->index of min value in array"
   ]
  },
  {
   "cell_type": "code",
   "execution_count": 188,
   "id": "1c2d8ae4",
   "metadata": {},
   "outputs": [
    {
     "data": {
      "text/plain": [
       "array([ 0.        ,  0.84147098,  0.90929743,  0.14112001, -0.7568025 ,\n",
       "       -0.95892427, -0.2794155 ,  0.6569866 ,  0.98935825,  0.41211849])"
      ]
     },
     "execution_count": 188,
     "metadata": {},
     "output_type": "execute_result"
    }
   ],
   "source": [
    "np.sin(a)"
   ]
  },
  {
   "cell_type": "code",
   "execution_count": 187,
   "id": "7877c79a",
   "metadata": {},
   "outputs": [
    {
     "data": {
      "text/plain": [
       "array([ 1.        ,  0.54030231, -0.41614684, -0.9899925 , -0.65364362,\n",
       "        0.28366219,  0.96017029,  0.75390225, -0.14550003, -0.91113026])"
      ]
     },
     "execution_count": 187,
     "metadata": {},
     "output_type": "execute_result"
    }
   ],
   "source": [
    "np.cos((a))"
   ]
  },
  {
   "cell_type": "code",
   "execution_count": 189,
   "id": "316a53e3",
   "metadata": {},
   "outputs": [
    {
     "data": {
      "text/plain": [
       "array([ 0.        ,  1.55740772, -2.18503986, -0.14254654,  1.15782128,\n",
       "       -3.38051501, -0.29100619,  0.87144798, -6.79971146, -0.45231566])"
      ]
     },
     "execution_count": 189,
     "metadata": {},
     "output_type": "execute_result"
    }
   ],
   "source": [
    "np.tan(a)"
   ]
  },
  {
   "cell_type": "code",
   "execution_count": 192,
   "id": "7696e836",
   "metadata": {},
   "outputs": [
    {
     "data": {
      "text/plain": [
       "array([ 0.        ,  1.55740772, -2.18503986, -0.14254654,  1.15782128,\n",
       "       -3.38051501, -0.29100619,  0.87144798, -6.79971146, -0.45231566])"
      ]
     },
     "execution_count": 192,
     "metadata": {},
     "output_type": "execute_result"
    }
   ],
   "source": [
    "np.sin(a)/np.cos(a) #tan"
   ]
  },
  {
   "cell_type": "code",
   "execution_count": 193,
   "id": "254e5460",
   "metadata": {},
   "outputs": [
    {
     "name": "stderr",
     "output_type": "stream",
     "text": [
      "C:\\Users\\HP\\AppData\\Local\\Temp\\ipykernel_14976\\3202920359.py:1: RuntimeWarning: divide by zero encountered in divide\n",
      "  np.cos(a)/np.sin(a)\n"
     ]
    },
    {
     "data": {
      "text/plain": [
       "array([        inf,  0.64209262, -0.45765755, -7.01525255,  0.86369115,\n",
       "       -0.29581292, -3.436353  ,  1.14751542, -0.14706506, -2.21084541])"
      ]
     },
     "execution_count": 193,
     "metadata": {},
     "output_type": "execute_result"
    }
   ],
   "source": [
    "np.cos(a)/np.sin(a)  #cot"
   ]
  },
  {
   "cell_type": "code",
   "execution_count": 194,
   "id": "2e8e37d2",
   "metadata": {},
   "outputs": [
    {
     "name": "stderr",
     "output_type": "stream",
     "text": [
      "C:\\Users\\HP\\AppData\\Local\\Temp\\ipykernel_14976\\1909192946.py:1: RuntimeWarning: divide by zero encountered in divide\n",
      "  1/np.sin(a)\n"
     ]
    },
    {
     "data": {
      "text/plain": [
       "array([        inf,  1.18839511,  1.09975017,  7.0861674 , -1.32134871,\n",
       "       -1.04283521, -3.57889955,  1.52210106,  1.01075622,  2.42648664])"
      ]
     },
     "execution_count": 194,
     "metadata": {},
     "output_type": "execute_result"
    }
   ],
   "source": [
    "1/np.sin(a) #cosec"
   ]
  },
  {
   "cell_type": "code",
   "execution_count": 195,
   "id": "ba31dcf0",
   "metadata": {},
   "outputs": [
    {
     "data": {
      "text/plain": [
       "array([ 1.        ,  1.85081572, -2.40299796, -1.01010867, -1.52988566,\n",
       "        3.52532009,  1.04148193,  1.3264319 , -6.87285064, -1.09753791])"
      ]
     },
     "execution_count": 195,
     "metadata": {},
     "output_type": "execute_result"
    }
   ],
   "source": [
    "1/np.cos(a) #sec"
   ]
  },
  {
   "cell_type": "code",
   "execution_count": 215,
   "id": "c537a5dc",
   "metadata": {},
   "outputs": [
    {
     "data": {
      "text/plain": [
       "32"
      ]
     },
     "execution_count": 215,
     "metadata": {},
     "output_type": "execute_result"
    }
   ],
   "source": [
    "np2=np.array([1,2,3])\n",
    "np3=np.array([4,5,6])\n",
    "#(1*4)+(2*5)+(3*6)\n",
    "b=(np2[0]*np3[0])+(np2[1]*np3[1])+(np2[2]*np3[2])\n",
    "b"
   ]
  },
  {
   "cell_type": "code",
   "execution_count": 262,
   "id": "5afc5e9f",
   "metadata": {},
   "outputs": [
    {
     "data": {
      "text/plain": [
       "41"
      ]
     },
     "execution_count": 262,
     "metadata": {},
     "output_type": "execute_result"
    }
   ],
   "source": [
    "np2=np.array([1,2,3,9])\n",
    "np3=np.array([4,5,6,1])\n",
    "#np2*np3\n",
    "np.dot(np2,np3)"
   ]
  },
  {
   "cell_type": "code",
   "execution_count": 280,
   "id": "53f6bc94",
   "metadata": {},
   "outputs": [
    {
     "data": {
      "text/plain": [
       "105"
      ]
     },
     "execution_count": 280,
     "metadata": {},
     "output_type": "execute_result"
    }
   ],
   "source": [
    "np2=np.array([1,2,3,8,1])\n",
    "np3=np.array([4,5,6,8,9])\n",
    "len1=len(np2)\n",
    "len2=len(np3)\n",
    "diff=len1-len2\n",
    "diff1=abs(diff)\n",
    "for i in range(diff):\n",
    "    np3=np.append(np3,1)\n",
    "np.dot(np2,np3)\n",
    "\n",
    "\n",
    "        \n",
    "\n"
   ]
  },
  {
   "cell_type": "code",
   "execution_count": 245,
   "id": "2b1b9ca7",
   "metadata": {},
   "outputs": [
    {
     "data": {
      "text/plain": [
       "array([ 1., 23.,  4.,  5.,  6.,  7., nan, nan, nan])"
      ]
     },
     "execution_count": 245,
     "metadata": {},
     "output_type": "execute_result"
    }
   ],
   "source": [
    "np1=np.array([1,23,4,5,6,7,np.nan,np.nan,np.nan])\n",
    "np1"
   ]
  },
  {
   "cell_type": "code",
   "execution_count": 246,
   "id": "4818e3da",
   "metadata": {},
   "outputs": [
    {
     "name": "stdout",
     "output_type": "stream",
     "text": [
      "[nan nan nan]\n"
     ]
    }
   ],
   "source": [
    "print(np1[np.isnan(np1)])"
   ]
  },
  {
   "cell_type": "code",
   "execution_count": 248,
   "id": "db2f5aaa",
   "metadata": {},
   "outputs": [
    {
     "name": "stdout",
     "output_type": "stream",
     "text": [
      "[ 1. 23.  4.  5.  6.  7.]\n"
     ]
    }
   ],
   "source": [
    "print(np1[~np.isnan(np1)])"
   ]
  },
  {
   "cell_type": "code",
   "execution_count": 255,
   "id": "c35ad70f",
   "metadata": {},
   "outputs": [
    {
     "name": "stdout",
     "output_type": "stream",
     "text": [
      "Package                       Version\n",
      "----------------------------- ---------------\n",
      "alabaster                     0.7.12\n",
      "anaconda-client               1.11.2\n",
      "anaconda-navigator            2.4.0\n",
      "anaconda-project              0.11.1\n",
      "anyio                         3.5.0\n",
      "appdirs                       1.4.4\n",
      "argon2-cffi                   21.3.0\n",
      "argon2-cffi-bindings          21.2.0\n",
      "arrow                         1.2.3\n",
      "astroid                       2.14.2\n",
      "astropy                       5.1\n",
      "asttokens                     2.0.5\n",
      "atomicwrites                  1.4.0\n",
      "attrs                         22.1.0\n",
      "Automat                       20.2.0\n",
      "autopep8                      1.6.0\n",
      "Babel                         2.11.0\n",
      "backcall                      0.2.0\n",
      "backports.functools-lru-cache 1.6.4\n",
      "backports.tempfile            1.0\n",
      "backports.weakref             1.0.post1\n",
      "bcrypt                        3.2.0\n",
      "beautifulsoup4                4.11.1\n",
      "binaryornot                   0.4.4\n",
      "black                         22.6.0\n",
      "bleach                        4.1.0\n",
      "bokeh                         2.4.3\n",
      "boltons                       23.0.0\n",
      "boto3                         1.13.4\n",
      "botocore                      1.16.26\n",
      "Bottleneck                    1.3.5\n",
      "brotlipy                      0.7.0\n",
      "certifi                       2022.12.7\n",
      "cffi                          1.15.1\n",
      "chardet                       4.0.0\n",
      "charset-normalizer            2.0.4\n",
      "click                         8.0.4\n",
      "cloudpickle                   2.0.0\n",
      "clyent                        1.2.2\n",
      "colorama                      0.4.6\n",
      "colorcet                      3.0.1\n",
      "comm                          0.1.2\n",
      "conda                         23.3.1\n",
      "conda-build                   3.24.0\n",
      "conda-content-trust           0.1.3\n",
      "conda-pack                    0.6.0\n",
      "conda-package-handling        2.0.2\n",
      "conda_package_streaming       0.7.0\n",
      "conda-repo-cli                1.0.41\n",
      "conda-token                   0.4.0\n",
      "conda-verify                  3.4.2\n",
      "constantly                    15.1.0\n",
      "contourpy                     1.0.5\n",
      "cookiecutter                  1.7.3\n",
      "cryptography                  39.0.1\n",
      "cssselect                     1.1.0\n",
      "cycler                        0.11.0\n",
      "cytoolz                       0.12.0\n",
      "daal4py                       2023.0.2\n",
      "dask                          2022.7.0\n",
      "datashader                    0.14.4\n",
      "datashape                     0.5.4\n",
      "debugpy                       1.5.1\n",
      "decorator                     5.1.1\n",
      "defcon-utils                  0.0.4\n",
      "defusedxml                    0.7.1\n",
      "diff-match-patch              20200713\n",
      "dill                          0.3.6\n",
      "distributed                   2022.7.0\n",
      "docstring-to-markdown         0.11\n",
      "docutils                      0.15.2\n",
      "EasyProcess                   1.1\n",
      "entrypoint2                   1.1\n",
      "entrypoints                   0.4\n",
      "et-xmlfile                    1.1.0\n",
      "executing                     0.8.3\n",
      "fastjsonschema                2.16.2\n",
      "filelock                      3.9.0\n",
      "flake8                        6.0.0\n",
      "Flask                         2.2.2\n",
      "flit_core                     3.6.0\n",
      "fonttools                     4.25.0\n",
      "forex-python                  1.8\n",
      "fsspec                        2022.11.0\n",
      "future                        0.18.3\n",
      "gensim                        4.3.0\n",
      "glob2                         0.7\n",
      "greenlet                      2.0.1\n",
      "h5py                          3.7.0\n",
      "HeapDict                      1.0.1\n",
      "holoviews                     1.15.4\n",
      "huggingface-hub               0.10.1\n",
      "hvplot                        0.8.2\n",
      "hyperlink                     21.0.0\n",
      "idna                          3.4\n",
      "imagecodecs                   2021.8.26\n",
      "imageio                       2.26.0\n",
      "imagesize                     1.4.1\n",
      "imbalanced-learn              0.10.1\n",
      "importlib-metadata            4.11.3\n",
      "incremental                   21.3.0\n",
      "inflection                    0.5.1\n",
      "iniconfig                     1.1.1\n",
      "intake                        0.6.7\n",
      "intervaltree                  3.1.0\n",
      "ipykernel                     6.19.2\n",
      "ipython                       8.10.0\n",
      "ipython-genutils              0.2.0\n",
      "ipywidgets                    7.6.5\n",
      "isort                         5.9.3\n",
      "itemadapter                   0.3.0\n",
      "itemloaders                   1.0.4\n",
      "itsdangerous                  2.0.1\n",
      "jedi                          0.18.1\n",
      "jellyfish                     0.9.0\n",
      "Jinja2                        3.1.2\n",
      "jinja2-time                   0.2.0\n",
      "jmespath                      0.10.0\n",
      "joblib                        1.1.1\n",
      "json5                         0.9.6\n",
      "jsonpatch                     1.32\n",
      "jsonpointer                   2.1\n",
      "jsonschema                    4.17.3\n",
      "jupyter                       1.0.0\n",
      "jupyter_client                7.3.4\n",
      "jupyter-console               6.6.2\n",
      "jupyter_core                  5.2.0\n",
      "jupyter-server                1.23.4\n",
      "jupyterlab                    3.5.3\n",
      "jupyterlab-pygments           0.1.2\n",
      "jupyterlab_server             2.19.0\n",
      "jupyterlab-widgets            1.0.0\n",
      "keyring                       23.4.0\n",
      "kiwisolver                    1.4.4\n",
      "lazy-object-proxy             1.6.0\n",
      "libarchive-c                  2.9\n",
      "llvmlite                      0.39.1\n",
      "locket                        1.0.0\n",
      "lxml                          4.9.1\n",
      "lz4                           3.1.3\n",
      "Markdown                      3.4.1\n",
      "MarkupSafe                    2.1.1\n",
      "matplotlib                    3.7.0\n",
      "matplotlib-inline             0.1.6\n",
      "mccabe                        0.7.0\n",
      "menuinst                      1.4.19\n",
      "mistune                       0.8.4\n",
      "mkl-fft                       1.3.1\n",
      "mkl-random                    1.2.2\n",
      "mkl-service                   2.4.0\n",
      "mock                          4.0.3\n",
      "MouseInfo                     0.1.3\n",
      "mpmath                        1.2.1\n",
      "msgpack                       1.0.3\n",
      "mss                           9.0.1\n",
      "multipledispatch              0.6.0\n",
      "munkres                       1.1.4\n",
      "mypy-extensions               0.4.3\n",
      "navigator-updater             0.3.0\n",
      "nbclassic                     0.5.2\n",
      "nbclient                      0.5.13\n",
      "nbconvert                     6.5.4\n",
      "nbformat                      5.7.0\n",
      "nest-asyncio                  1.5.6\n",
      "networkx                      2.8.4\n",
      "nltk                          3.7\n",
      "notebook                      6.5.2\n",
      "notebook_shim                 0.2.2\n",
      "numba                         0.56.4\n",
      "numexpr                       2.8.4\n",
      "numpy                         1.23.5\n",
      "numpydoc                      1.5.0\n",
      "openpyxl                      3.0.10\n",
      "packaging                     22.0\n",
      "pandas                        1.5.3\n",
      "pandocfilters                 1.5.0\n",
      "panel                         0.14.3\n",
      "param                         1.12.3\n",
      "paramiko                      2.8.1\n",
      "parsel                        1.6.0\n",
      "parso                         0.8.3\n",
      "partd                         1.2.0\n",
      "pathlib                       1.0.1\n",
      "pathspec                      0.10.3\n",
      "patsy                         0.5.3\n",
      "pep8                          1.7.1\n",
      "pexpect                       4.8.0\n",
      "pickleshare                   0.7.5\n",
      "Pillow                        9.4.0\n",
      "pip                           22.3.1\n",
      "pkginfo                       1.9.6\n",
      "platformdirs                  2.5.2\n",
      "plotly                        5.9.0\n",
      "pluggy                        1.0.0\n",
      "ply                           3.11\n",
      "pooch                         1.4.0\n",
      "poyo                          0.5.0\n",
      "prometheus-client             0.14.1\n",
      "prompt-toolkit                3.0.36\n",
      "Protego                       0.1.16\n",
      "psutil                        5.9.0\n",
      "ptyprocess                    0.7.0\n",
      "pure-eval                     0.2.2\n",
      "py                            1.11.0\n",
      "pyasn1                        0.4.8\n",
      "pyasn1-modules                0.2.8\n",
      "PyAutoGUI                     0.9.54\n",
      "pycodestyle                   2.10.0\n",
      "pycosat                       0.6.4\n",
      "pycparser                     2.21\n",
      "pyct                          0.5.0\n",
      "pycurl                        7.45.1\n",
      "PyDispatcher                  2.0.5\n",
      "pydocstyle                    6.3.0\n",
      "pyerfa                        2.0.0\n",
      "pyflakes                      3.0.1\n",
      "PyGetWindow                   0.0.9\n",
      "Pygments                      2.11.2\n",
      "PyHamcrest                    2.0.2\n",
      "PyJWT                         2.4.0\n",
      "pylint                        2.16.2\n",
      "pylint-venv                   2.3.0\n",
      "pyls-spyder                   0.4.0\n",
      "PyMsgBox                      1.0.9\n",
      "PyNaCl                        1.5.0\n",
      "pyodbc                        4.0.34\n",
      "pyOpenSSL                     23.0.0\n",
      "pyparsing                     3.0.9\n",
      "pyperclip                     1.8.2\n",
      "PyQt5                         5.15.7\n",
      "PyQt5-sip                     12.11.0\n",
      "PyQtWebEngine                 5.15.4\n",
      "PyRect                        0.2.0\n",
      "pyrsistent                    0.18.0\n",
      "pyscreenshot                  3.1\n",
      "PyScreeze                     0.1.29\n",
      "PySocks                       1.7.1\n",
      "pytest                        7.1.2\n",
      "python-dateutil               2.8.2\n",
      "python-http-client            3.3.7\n",
      "python-lsp-black              1.2.1\n",
      "python-lsp-jsonrpc            1.0.0\n",
      "python-lsp-server             1.7.1\n",
      "python-slugify                5.0.2\n",
      "python-snappy                 0.6.1\n",
      "pytoolconfig                  1.2.5\n",
      "pytweening                    1.0.7\n",
      "pytz                          2022.7\n",
      "pyviz-comms                   2.0.2\n",
      "PyWavelets                    1.4.1\n",
      "pywhatkit                     5.4\n",
      "pywin32                       305.1\n",
      "pywin32-ctypes                0.2.0\n",
      "pywinpty                      2.0.10\n",
      "PyYAML                        6.0\n",
      "pyzmq                         23.2.0\n",
      "QDarkStyle                    3.0.2\n",
      "qstylizer                     0.2.2\n",
      "QtAwesome                     1.2.2\n",
      "qtconsole                     5.4.0\n",
      "QtPy                          2.2.0\n",
      "queuelib                      1.5.0\n",
      "regex                         2022.7.9\n",
      "requests                      2.28.1\n",
      "requests-file                 1.5.1\n",
      "requests-toolbelt             0.9.1\n",
      "rope                          1.7.0\n",
      "Rtree                         1.0.1\n",
      "ruamel.yaml                   0.17.21\n",
      "ruamel.yaml.clib              0.2.6\n",
      "ruamel-yaml-conda             0.17.21\n",
      "s3transfer                    0.3.7\n",
      "scikit-image                  0.19.3\n",
      "scikit-learn                  1.2.1\n",
      "scikit-learn-intelex          20230228.214818\n",
      "scipy                         1.10.0\n",
      "Scrapy                        2.8.0\n",
      "seaborn                       0.12.2\n",
      "Send2Trash                    1.8.0\n",
      "sendgrid                      6.3.1\n",
      "service-identity              18.1.0\n",
      "setuptools                    65.6.3\n",
      "simplejson                    3.19.1\n",
      "sip                           6.6.2\n",
      "six                           1.16.0\n",
      "smart-open                    5.2.1\n",
      "sniffio                       1.2.0\n",
      "snowballstemmer               2.2.0\n",
      "sortedcontainers              2.4.0\n",
      "soupsieve                     2.3.2.post1\n",
      "Sphinx                        5.0.2\n",
      "sphinxcontrib-applehelp       1.0.2\n",
      "sphinxcontrib-devhelp         1.0.2\n",
      "sphinxcontrib-htmlhelp        2.0.0\n",
      "sphinxcontrib-jsmath          1.0.1\n",
      "sphinxcontrib-qthelp          1.0.3\n",
      "sphinxcontrib-serializinghtml 1.1.5\n",
      "spyder                        5.4.1\n",
      "spyder-kernels                2.4.1\n",
      "SQLAlchemy                    1.4.39\n",
      "stack-data                    0.2.0\n",
      "statsmodels                   0.13.5\n",
      "sympy                         1.11.1\n",
      "tables                        3.7.0\n",
      "tabulate                      0.8.10\n",
      "TBB                           0.2\n",
      "tblib                         1.7.0\n",
      "tenacity                      8.0.1\n",
      "terminado                     0.17.1\n",
      "text-unidecode                1.3\n",
      "textdistance                  4.2.1\n",
      "threadpoolctl                 2.2.0\n",
      "three-merge                   0.1.1\n",
      "tifffile                      2021.7.2\n",
      "tinycss2                      1.2.1\n",
      "tldextract                    3.2.0\n",
      "tokenizers                    0.11.4\n",
      "toml                          0.10.2\n",
      "tomli                         2.0.1\n",
      "tomlkit                       0.11.1\n",
      "toolz                         0.12.0\n",
      "torch                         1.12.1\n",
      "tornado                       6.1\n",
      "tqdm                          4.64.1\n",
      "traitlets                     5.7.1\n",
      "transformers                  4.24.0\n",
      "Twisted                       22.2.0\n",
      "twisted-iocpsupport           1.0.2\n",
      "typing_extensions             4.4.0\n",
      "ujson                         5.4.0\n",
      "Unidecode                     1.2.0\n",
      "urllib3                       1.25.11\n",
      "w3lib                         1.21.0\n",
      "watchdog                      2.1.6\n",
      "wcwidth                       0.2.5\n",
      "webencodings                  0.5.1\n",
      "websocket-client              0.58.0\n",
      "Werkzeug                      2.2.2\n",
      "whatsapp-api                  0.0.3\n",
      "whatthepatch                  1.0.2\n",
      "wheel                         0.38.4\n",
      "widgetsnbextension            3.5.2\n",
      "wikipedia                     1.4.0\n",
      "win-inet-pton                 1.1.0\n",
      "wincertstore                  0.2\n",
      "wrapt                         1.14.1\n",
      "xarray                        2022.11.0\n",
      "xlwings                       0.29.1\n",
      "yapf                          0.31.0\n",
      "zict                          2.1.0\n",
      "zipp                          3.11.0\n",
      "zope.interface                5.4.0\n",
      "zstandard                     0.19.0\n",
      "Note: you may need to restart the kernel to use updated packages.\n"
     ]
    }
   ],
   "source": [
    "pip list\n"
   ]
  },
  {
   "cell_type": "code",
   "execution_count": 256,
   "id": "166facc2",
   "metadata": {},
   "outputs": [
    {
     "name": "stdout",
     "output_type": "stream",
     "text": [
      "Requirement already satisfied: pandas in c:\\users\\hp\\anaconda3\\lib\\site-packages (1.5.3)\n",
      "Requirement already satisfied: numpy>=1.21.0 in c:\\users\\hp\\anaconda3\\lib\\site-packages (from pandas) (1.23.5)\n",
      "Requirement already satisfied: pytz>=2020.1 in c:\\users\\hp\\anaconda3\\lib\\site-packages (from pandas) (2022.7)\n",
      "Requirement already satisfied: python-dateutil>=2.8.1 in c:\\users\\hp\\anaconda3\\lib\\site-packages (from pandas) (2.8.2)\n",
      "Requirement already satisfied: six>=1.5 in c:\\users\\hp\\anaconda3\\lib\\site-packages (from python-dateutil>=2.8.1->pandas) (1.16.0)\n",
      "Note: you may need to restart the kernel to use updated packages.\n"
     ]
    }
   ],
   "source": [
    "pip install pandas"
   ]
  },
  {
   "cell_type": "code",
   "execution_count": 268,
   "id": "043a99c5",
   "metadata": {},
   "outputs": [],
   "source": [
    "#Pandas\n",
    "import pandas as pd\n",
    "#Pandas is defined as an open_source library that provides high-performance data manipulation in python.\n",
    "\n",
    "#Data analysis required lot of processing such as restructuring,cleaning,merging,manipilating etc... \n",
    "\n",
    "#We prefer Pandas to perform above functionalities coz it is fast,simple than other tools.\n",
    "\n",
    "#Pandas is built on Numpy,Numpy is required for operating pandas\n"
   ]
  },
  {
   "cell_type": "code",
   "execution_count": 281,
   "id": "4aad0bba",
   "metadata": {},
   "outputs": [],
   "source": [
    "#Pandas series \n",
    "\n",
    "#Pandas series is a data structure with one dimensional labeled array\n",
    "\n",
    "#It is a primary building block of Dataframe,making its rows and columns\n",
    "\n",
    "#Syntax -->pandas.series(data=None,index=None,dtype=None,name=None,copy=True or False)"
   ]
  },
  {
   "cell_type": "code",
   "execution_count": 285,
   "id": "503a5362",
   "metadata": {},
   "outputs": [],
   "source": [
    "labels=['a','b','c']\n",
    "my_data=[10,20,30]\n",
    "arr=np.array(my_data)\n",
    "d={'a':100,'b':200,'c':300}\n"
   ]
  },
  {
   "cell_type": "code",
   "execution_count": 292,
   "id": "f7f5e3c4",
   "metadata": {},
   "outputs": [
    {
     "data": {
      "text/plain": [
       "0    10\n",
       "1    20\n",
       "2    30\n",
       "dtype: int64"
      ]
     },
     "execution_count": 292,
     "metadata": {},
     "output_type": "execute_result"
    }
   ],
   "source": [
    "#ex:1\n",
    "\n",
    "import pandas as pd\n",
    "pd.Series(my_data)"
   ]
  },
  {
   "cell_type": "code",
   "execution_count": 293,
   "id": "eb2e58ee",
   "metadata": {},
   "outputs": [
    {
     "data": {
      "text/plain": [
       "pandas.core.series.Series"
      ]
     },
     "execution_count": 293,
     "metadata": {},
     "output_type": "execute_result"
    }
   ],
   "source": [
    "type(pd.Series(my_data))"
   ]
  },
  {
   "cell_type": "code",
   "execution_count": 300,
   "id": "317eb8ba",
   "metadata": {},
   "outputs": [
    {
     "data": {
      "text/plain": [
       "a    10\n",
       "b    20\n",
       "c    30\n",
       "dtype: int64"
      ]
     },
     "execution_count": 300,
     "metadata": {},
     "output_type": "execute_result"
    }
   ],
   "source": [
    "#Series with labels\n",
    "\n",
    "#pd.Series(my_data,labels)\n",
    "\n",
    "       #or\n",
    "\n",
    "pd.Series(data=my_data,index=labels)"
   ]
  },
  {
   "cell_type": "code",
   "execution_count": 304,
   "id": "1a012069",
   "metadata": {},
   "outputs": [
    {
     "name": "stdout",
     "output_type": "stream",
     "text": [
      "\n"
     ]
    },
    {
     "data": {
      "text/plain": [
       "0                       None\n",
       "1    <built-in function len>\n",
       "2                         41\n",
       "dtype: object"
      ]
     },
     "execution_count": 304,
     "metadata": {},
     "output_type": "execute_result"
    }
   ],
   "source": [
    "pd.Series(data=[print(),len,sum])"
   ]
  },
  {
   "cell_type": "code",
   "execution_count": 320,
   "id": "71f9068c",
   "metadata": {},
   "outputs": [
    {
     "name": "stdout",
     "output_type": "stream",
     "text": [
      "my name is vinay\n",
      "good afternoon\n"
     ]
    }
   ],
   "source": [
    "class profile:\n",
    "    #@property\n",
    "    def display(self):\n",
    "        print(\"my name is vinay\")\n",
    "p=profile()\n",
    "p.display()\n",
    "      \n",
    "\n",
    "def greet():\n",
    "    return \"Good afternoon\"\n",
    "    \n",
    "def decor(func):\n",
    "    def inner():\n",
    "        str1=func()\n",
    "        return str1.lower()\n",
    "    return inner()\n",
    "\n",
    "print(decor(greet))"
   ]
  },
  {
   "cell_type": "code",
   "execution_count": 321,
   "id": "68066c2b",
   "metadata": {},
   "outputs": [],
   "source": [
    "series=pd.Series([1,2,3,4,5],['USA','INDIA','CANADA','UK','EGYPT',])"
   ]
  },
  {
   "cell_type": "code",
   "execution_count": 323,
   "id": "cf961ae9",
   "metadata": {},
   "outputs": [
    {
     "data": {
      "text/plain": [
       "USA       1\n",
       "INDIA     2\n",
       "CANADA    3\n",
       "UK        4\n",
       "EGYPT     5\n",
       "dtype: int64"
      ]
     },
     "execution_count": 323,
     "metadata": {},
     "output_type": "execute_result"
    }
   ],
   "source": [
    "series"
   ]
  },
  {
   "cell_type": "code",
   "execution_count": 324,
   "id": "d6939801",
   "metadata": {},
   "outputs": [
    {
     "data": {
      "text/plain": [
       "1"
      ]
     },
     "execution_count": 324,
     "metadata": {},
     "output_type": "execute_result"
    }
   ],
   "source": [
    "series['USA'] #value using key"
   ]
  },
  {
   "cell_type": "code",
   "execution_count": 327,
   "id": "076adf1c",
   "metadata": {},
   "outputs": [
    {
     "data": {
      "text/plain": [
       "1"
      ]
     },
     "execution_count": 327,
     "metadata": {},
     "output_type": "execute_result"
    }
   ],
   "source": [
    "series[0] #value using indexing"
   ]
  },
  {
   "cell_type": "code",
   "execution_count": 328,
   "id": "e8a09e2a",
   "metadata": {},
   "outputs": [
    {
     "data": {
      "text/plain": [
       "INDIA     2\n",
       "CANADA    3\n",
       "UK        4\n",
       "EGYPT     5\n",
       "dtype: int64"
      ]
     },
     "execution_count": 328,
     "metadata": {},
     "output_type": "execute_result"
    }
   ],
   "source": [
    "series[1:]"
   ]
  },
  {
   "cell_type": "code",
   "execution_count": 329,
   "id": "dd663635",
   "metadata": {},
   "outputs": [
    {
     "data": {
      "text/plain": [
       "EGYPT    5\n",
       "dtype: int64"
      ]
     },
     "execution_count": 329,
     "metadata": {},
     "output_type": "execute_result"
    }
   ],
   "source": [
    "series[-1:]"
   ]
  },
  {
   "cell_type": "code",
   "execution_count": 331,
   "id": "2ec3e781",
   "metadata": {},
   "outputs": [
    {
     "data": {
      "text/plain": [
       "EGYPT     5\n",
       "UK        4\n",
       "CANADA    3\n",
       "INDIA     2\n",
       "USA       1\n",
       "dtype: int64"
      ]
     },
     "execution_count": 331,
     "metadata": {},
     "output_type": "execute_result"
    }
   ],
   "source": [
    "series[::-1]"
   ]
  },
  {
   "cell_type": "code",
   "execution_count": 339,
   "id": "cbead2a3",
   "metadata": {},
   "outputs": [],
   "source": [
    "ser=pd.Series([1,2,3,4,5],['A','B','C','D','E'])\n"
   ]
  },
  {
   "cell_type": "code",
   "execution_count": 340,
   "id": "e18f216b",
   "metadata": {},
   "outputs": [
    {
     "data": {
      "text/plain": [
       "A        NaN\n",
       "B        NaN\n",
       "C        NaN\n",
       "CANADA   NaN\n",
       "D        NaN\n",
       "E        NaN\n",
       "EGYPT    NaN\n",
       "INDIA    NaN\n",
       "UK       NaN\n",
       "USA      NaN\n",
       "dtype: float64"
      ]
     },
     "execution_count": 340,
     "metadata": {},
     "output_type": "execute_result"
    }
   ],
   "source": [
    "series+ser"
   ]
  },
  {
   "cell_type": "code",
   "execution_count": 341,
   "id": "0f0b18b5",
   "metadata": {},
   "outputs": [
    {
     "data": {
      "text/plain": [
       "E    5\n",
       "D    4\n",
       "C    3\n",
       "B    2\n",
       "A    1\n",
       "dtype: int64"
      ]
     },
     "execution_count": 341,
     "metadata": {},
     "output_type": "execute_result"
    }
   ],
   "source": [
    "ser[::-1]"
   ]
  },
  {
   "cell_type": "code",
   "execution_count": 342,
   "id": "0b2cf368",
   "metadata": {},
   "outputs": [
    {
     "data": {
      "text/plain": [
       "A    1\n",
       "B    2\n",
       "C    3\n",
       "D    4\n",
       "E    5\n",
       "dtype: int64"
      ]
     },
     "execution_count": 342,
     "metadata": {},
     "output_type": "execute_result"
    }
   ],
   "source": [
    "#To create a new data in series\n",
    "\n",
    "ser"
   ]
  },
  {
   "cell_type": "code",
   "execution_count": 350,
   "id": "f5691f25",
   "metadata": {},
   "outputs": [],
   "source": [
    "series['CHINA']=\"SIX\""
   ]
  },
  {
   "cell_type": "code",
   "execution_count": 351,
   "id": "e1e2e999",
   "metadata": {},
   "outputs": [
    {
     "data": {
      "text/plain": [
       "USA         1\n",
       "INDIA       2\n",
       "CANADA      3\n",
       "UK          4\n",
       "EGYPT       5\n",
       "CHINA     SIX\n",
       "dtype: object"
      ]
     },
     "execution_count": 351,
     "metadata": {},
     "output_type": "execute_result"
    }
   ],
   "source": [
    "series"
   ]
  },
  {
   "cell_type": "code",
   "execution_count": 353,
   "id": "f22a7b78",
   "metadata": {},
   "outputs": [
    {
     "data": {
      "text/plain": [
       "USA       1\n",
       "INDIA     2\n",
       "CANADA    3\n",
       "UK        4\n",
       "EGYPT     5\n",
       "dtype: object"
      ]
     },
     "execution_count": 353,
     "metadata": {},
     "output_type": "execute_result"
    }
   ],
   "source": [
    "series.drop('CHINA')"
   ]
  },
  {
   "cell_type": "code",
   "execution_count": 356,
   "id": "1e1f3e87",
   "metadata": {},
   "outputs": [],
   "source": [
    "#Dataframe \n",
    "#p.DataF\n",
    "\n",
    "#pd.DataFrame(datas,row_label,col_label)\n",
    "\n",
    "df=pd.DataFrame(np.random.randn(5,4))"
   ]
  },
  {
   "cell_type": "code",
   "execution_count": 357,
   "id": "68ac5f75",
   "metadata": {},
   "outputs": [
    {
     "data": {
      "text/html": [
       "<div>\n",
       "<style scoped>\n",
       "    .dataframe tbody tr th:only-of-type {\n",
       "        vertical-align: middle;\n",
       "    }\n",
       "\n",
       "    .dataframe tbody tr th {\n",
       "        vertical-align: top;\n",
       "    }\n",
       "\n",
       "    .dataframe thead th {\n",
       "        text-align: right;\n",
       "    }\n",
       "</style>\n",
       "<table border=\"1\" class=\"dataframe\">\n",
       "  <thead>\n",
       "    <tr style=\"text-align: right;\">\n",
       "      <th></th>\n",
       "      <th>0</th>\n",
       "      <th>1</th>\n",
       "      <th>2</th>\n",
       "      <th>3</th>\n",
       "    </tr>\n",
       "  </thead>\n",
       "  <tbody>\n",
       "    <tr>\n",
       "      <th>0</th>\n",
       "      <td>0.000717</td>\n",
       "      <td>0.715169</td>\n",
       "      <td>-1.394831</td>\n",
       "      <td>0.281103</td>\n",
       "    </tr>\n",
       "    <tr>\n",
       "      <th>1</th>\n",
       "      <td>-0.157472</td>\n",
       "      <td>1.995142</td>\n",
       "      <td>-0.888137</td>\n",
       "      <td>0.336537</td>\n",
       "    </tr>\n",
       "    <tr>\n",
       "      <th>2</th>\n",
       "      <td>1.129633</td>\n",
       "      <td>-0.001685</td>\n",
       "      <td>-0.685405</td>\n",
       "      <td>0.995337</td>\n",
       "    </tr>\n",
       "    <tr>\n",
       "      <th>3</th>\n",
       "      <td>-0.404034</td>\n",
       "      <td>-0.848299</td>\n",
       "      <td>-1.345435</td>\n",
       "      <td>-1.627834</td>\n",
       "    </tr>\n",
       "    <tr>\n",
       "      <th>4</th>\n",
       "      <td>-0.105560</td>\n",
       "      <td>0.658154</td>\n",
       "      <td>0.343551</td>\n",
       "      <td>0.293631</td>\n",
       "    </tr>\n",
       "  </tbody>\n",
       "</table>\n",
       "</div>"
      ],
      "text/plain": [
       "          0         1         2         3\n",
       "0  0.000717  0.715169 -1.394831  0.281103\n",
       "1 -0.157472  1.995142 -0.888137  0.336537\n",
       "2  1.129633 -0.001685 -0.685405  0.995337\n",
       "3 -0.404034 -0.848299 -1.345435 -1.627834\n",
       "4 -0.105560  0.658154  0.343551  0.293631"
      ]
     },
     "execution_count": 357,
     "metadata": {},
     "output_type": "execute_result"
    }
   ],
   "source": [
    "df"
   ]
  },
  {
   "cell_type": "code",
   "execution_count": 390,
   "id": "72594e60",
   "metadata": {},
   "outputs": [],
   "source": [
    "df=pd.DataFrame(np.random.randn(5,4),['A','B','C','D','E'],['W','X','Y','Z'])"
   ]
  },
  {
   "cell_type": "code",
   "execution_count": 385,
   "id": "b2a42097",
   "metadata": {},
   "outputs": [
    {
     "data": {
      "text/html": [
       "<div>\n",
       "<style scoped>\n",
       "    .dataframe tbody tr th:only-of-type {\n",
       "        vertical-align: middle;\n",
       "    }\n",
       "\n",
       "    .dataframe tbody tr th {\n",
       "        vertical-align: top;\n",
       "    }\n",
       "\n",
       "    .dataframe thead th {\n",
       "        text-align: right;\n",
       "    }\n",
       "</style>\n",
       "<table border=\"1\" class=\"dataframe\">\n",
       "  <thead>\n",
       "    <tr style=\"text-align: right;\">\n",
       "      <th></th>\n",
       "      <th>W</th>\n",
       "      <th>X</th>\n",
       "      <th>Y</th>\n",
       "      <th>Z</th>\n",
       "    </tr>\n",
       "  </thead>\n",
       "  <tbody>\n",
       "    <tr>\n",
       "      <th>A</th>\n",
       "      <td>1.069897</td>\n",
       "      <td>-0.143353</td>\n",
       "      <td>-0.671405</td>\n",
       "      <td>0.977698</td>\n",
       "    </tr>\n",
       "    <tr>\n",
       "      <th>B</th>\n",
       "      <td>1.244194</td>\n",
       "      <td>-0.691350</td>\n",
       "      <td>-0.840285</td>\n",
       "      <td>0.199231</td>\n",
       "    </tr>\n",
       "    <tr>\n",
       "      <th>C</th>\n",
       "      <td>-0.915070</td>\n",
       "      <td>-0.302651</td>\n",
       "      <td>0.970236</td>\n",
       "      <td>-1.424221</td>\n",
       "    </tr>\n",
       "    <tr>\n",
       "      <th>D</th>\n",
       "      <td>-0.652358</td>\n",
       "      <td>-1.496002</td>\n",
       "      <td>0.837181</td>\n",
       "      <td>0.195437</td>\n",
       "    </tr>\n",
       "    <tr>\n",
       "      <th>E</th>\n",
       "      <td>-0.690583</td>\n",
       "      <td>-0.378840</td>\n",
       "      <td>0.832258</td>\n",
       "      <td>0.189524</td>\n",
       "    </tr>\n",
       "  </tbody>\n",
       "</table>\n",
       "</div>"
      ],
      "text/plain": [
       "          W         X         Y         Z\n",
       "A  1.069897 -0.143353 -0.671405  0.977698\n",
       "B  1.244194 -0.691350 -0.840285  0.199231\n",
       "C -0.915070 -0.302651  0.970236 -1.424221\n",
       "D -0.652358 -1.496002  0.837181  0.195437\n",
       "E -0.690583 -0.378840  0.832258  0.189524"
      ]
     },
     "execution_count": 385,
     "metadata": {},
     "output_type": "execute_result"
    }
   ],
   "source": [
    "df"
   ]
  },
  {
   "cell_type": "code",
   "execution_count": 362,
   "id": "db669de8",
   "metadata": {},
   "outputs": [],
   "source": [
    "# To convert dictionary into DataFrame\n",
    "\n",
    "d={\"col1\":[1,2],\"col2\":[3,4],\"col3\":[5,6]}"
   ]
  },
  {
   "cell_type": "code",
   "execution_count": 386,
   "id": "a861f015",
   "metadata": {},
   "outputs": [],
   "source": [
    "df=pd.DataFrame(data=d,index=['row1','row2'])\n",
    "\n",
    "                     #or\n",
    "    \n",
    "#df=pd.DataFrame(d,['row1','row2'])"
   ]
  },
  {
   "cell_type": "code",
   "execution_count": 387,
   "id": "2466dd53",
   "metadata": {},
   "outputs": [
    {
     "data": {
      "text/html": [
       "<div>\n",
       "<style scoped>\n",
       "    .dataframe tbody tr th:only-of-type {\n",
       "        vertical-align: middle;\n",
       "    }\n",
       "\n",
       "    .dataframe tbody tr th {\n",
       "        vertical-align: top;\n",
       "    }\n",
       "\n",
       "    .dataframe thead th {\n",
       "        text-align: right;\n",
       "    }\n",
       "</style>\n",
       "<table border=\"1\" class=\"dataframe\">\n",
       "  <thead>\n",
       "    <tr style=\"text-align: right;\">\n",
       "      <th></th>\n",
       "      <th>col1</th>\n",
       "      <th>col2</th>\n",
       "      <th>col3</th>\n",
       "    </tr>\n",
       "  </thead>\n",
       "  <tbody>\n",
       "    <tr>\n",
       "      <th>row1</th>\n",
       "      <td>1</td>\n",
       "      <td>3</td>\n",
       "      <td>5</td>\n",
       "    </tr>\n",
       "    <tr>\n",
       "      <th>row2</th>\n",
       "      <td>2</td>\n",
       "      <td>4</td>\n",
       "      <td>6</td>\n",
       "    </tr>\n",
       "  </tbody>\n",
       "</table>\n",
       "</div>"
      ],
      "text/plain": [
       "      col1  col2  col3\n",
       "row1     1     3     5\n",
       "row2     2     4     6"
      ]
     },
     "execution_count": 387,
     "metadata": {},
     "output_type": "execute_result"
    }
   ],
   "source": [
    "d1"
   ]
  },
  {
   "cell_type": "code",
   "execution_count": 391,
   "id": "b0fc6f9b",
   "metadata": {},
   "outputs": [
    {
     "data": {
      "text/html": [
       "<div>\n",
       "<style scoped>\n",
       "    .dataframe tbody tr th:only-of-type {\n",
       "        vertical-align: middle;\n",
       "    }\n",
       "\n",
       "    .dataframe tbody tr th {\n",
       "        vertical-align: top;\n",
       "    }\n",
       "\n",
       "    .dataframe thead th {\n",
       "        text-align: right;\n",
       "    }\n",
       "</style>\n",
       "<table border=\"1\" class=\"dataframe\">\n",
       "  <thead>\n",
       "    <tr style=\"text-align: right;\">\n",
       "      <th></th>\n",
       "      <th>A</th>\n",
       "      <th>B</th>\n",
       "      <th>C</th>\n",
       "      <th>D</th>\n",
       "      <th>E</th>\n",
       "    </tr>\n",
       "  </thead>\n",
       "  <tbody>\n",
       "    <tr>\n",
       "      <th>W</th>\n",
       "      <td>-0.957667</td>\n",
       "      <td>1.457134</td>\n",
       "      <td>0.960571</td>\n",
       "      <td>0.084726</td>\n",
       "      <td>-0.764508</td>\n",
       "    </tr>\n",
       "    <tr>\n",
       "      <th>X</th>\n",
       "      <td>-0.448264</td>\n",
       "      <td>-0.360486</td>\n",
       "      <td>0.224989</td>\n",
       "      <td>1.100182</td>\n",
       "      <td>-0.293663</td>\n",
       "    </tr>\n",
       "    <tr>\n",
       "      <th>Y</th>\n",
       "      <td>-0.051915</td>\n",
       "      <td>0.774760</td>\n",
       "      <td>-1.019336</td>\n",
       "      <td>1.564261</td>\n",
       "      <td>-0.707130</td>\n",
       "    </tr>\n",
       "    <tr>\n",
       "      <th>Z</th>\n",
       "      <td>-1.242098</td>\n",
       "      <td>1.274351</td>\n",
       "      <td>-0.742965</td>\n",
       "      <td>0.046712</td>\n",
       "      <td>1.147353</td>\n",
       "    </tr>\n",
       "  </tbody>\n",
       "</table>\n",
       "</div>"
      ],
      "text/plain": [
       "          A         B         C         D         E\n",
       "W -0.957667  1.457134  0.960571  0.084726 -0.764508\n",
       "X -0.448264 -0.360486  0.224989  1.100182 -0.293663\n",
       "Y -0.051915  0.774760 -1.019336  1.564261 -0.707130\n",
       "Z -1.242098  1.274351 -0.742965  0.046712  1.147353"
      ]
     },
     "execution_count": 391,
     "metadata": {},
     "output_type": "execute_result"
    }
   ],
   "source": [
    "df.T  #Transpose matrix"
   ]
  },
  {
   "cell_type": "code",
   "execution_count": 393,
   "id": "390533a8",
   "metadata": {},
   "outputs": [
    {
     "data": {
      "text/plain": [
       "Index(['A', 'B', 'C', 'D', 'E'], dtype='object')"
      ]
     },
     "execution_count": 393,
     "metadata": {},
     "output_type": "execute_result"
    }
   ],
   "source": [
    "df.index    #Row names"
   ]
  },
  {
   "cell_type": "code",
   "execution_count": 395,
   "id": "5e173b78",
   "metadata": {},
   "outputs": [
    {
     "data": {
      "text/plain": [
       "Index(['W', 'X', 'Y', 'Z'], dtype='object')"
      ]
     },
     "execution_count": 395,
     "metadata": {},
     "output_type": "execute_result"
    }
   ],
   "source": [
    "df.columns  #Column names"
   ]
  },
  {
   "cell_type": "code",
   "execution_count": 396,
   "id": "8c4fe1ce",
   "metadata": {},
   "outputs": [
    {
     "data": {
      "text/plain": [
       "pandas.core.frame.DataFrame"
      ]
     },
     "execution_count": 396,
     "metadata": {},
     "output_type": "execute_result"
    }
   ],
   "source": [
    "type(df)"
   ]
  },
  {
   "cell_type": "code",
   "execution_count": 398,
   "id": "56781d97",
   "metadata": {},
   "outputs": [
    {
     "data": {
      "text/plain": [
       "W    float64\n",
       "X    float64\n",
       "Y    float64\n",
       "Z    float64\n",
       "dtype: object"
      ]
     },
     "execution_count": 398,
     "metadata": {},
     "output_type": "execute_result"
    }
   ],
   "source": [
    "df.dtypes"
   ]
  },
  {
   "cell_type": "code",
   "execution_count": 400,
   "id": "685704de",
   "metadata": {},
   "outputs": [
    {
     "name": "stdout",
     "output_type": "stream",
     "text": [
      "<class 'pandas.core.frame.DataFrame'>\n",
      "Index: 5 entries, A to E\n",
      "Data columns (total 4 columns):\n",
      " #   Column  Non-Null Count  Dtype  \n",
      "---  ------  --------------  -----  \n",
      " 0   W       5 non-null      float64\n",
      " 1   X       5 non-null      float64\n",
      " 2   Y       5 non-null      float64\n",
      " 3   Z       5 non-null      float64\n",
      "dtypes: float64(4)\n",
      "memory usage: 372.0+ bytes\n"
     ]
    }
   ],
   "source": [
    "df.info()   #to get information about dataframes"
   ]
  },
  {
   "cell_type": "code",
   "execution_count": 401,
   "id": "d6825078",
   "metadata": {},
   "outputs": [
    {
     "data": {
      "text/plain": [
       "array([[-0.95766737, -0.44826422, -0.05191548, -1.24209832],\n",
       "       [ 1.45713423, -0.36048626,  0.77475985,  1.27435072],\n",
       "       [ 0.96057093,  0.22498851, -1.01933555, -0.74296526],\n",
       "       [ 0.08472614,  1.10018237,  1.56426127,  0.04671246],\n",
       "       [-0.76450836, -0.29366324, -0.70713049,  1.1473534 ]])"
      ]
     },
     "execution_count": 401,
     "metadata": {},
     "output_type": "execute_result"
    }
   ],
   "source": [
    "df.values"
   ]
  },
  {
   "cell_type": "code",
   "execution_count": 402,
   "id": "fbd2c88a",
   "metadata": {},
   "outputs": [
    {
     "data": {
      "text/plain": [
       "[Index(['A', 'B', 'C', 'D', 'E'], dtype='object'),\n",
       " Index(['W', 'X', 'Y', 'Z'], dtype='object')]"
      ]
     },
     "execution_count": 402,
     "metadata": {},
     "output_type": "execute_result"
    }
   ],
   "source": [
    "df.axes"
   ]
  },
  {
   "cell_type": "code",
   "execution_count": 403,
   "id": "1bd1a0ae",
   "metadata": {},
   "outputs": [
    {
     "data": {
      "text/plain": [
       "2"
      ]
     },
     "execution_count": 403,
     "metadata": {},
     "output_type": "execute_result"
    }
   ],
   "source": [
    "df.ndim"
   ]
  },
  {
   "cell_type": "code",
   "execution_count": 404,
   "id": "bf170d3e",
   "metadata": {},
   "outputs": [
    {
     "data": {
      "text/plain": [
       "20"
      ]
     },
     "execution_count": 404,
     "metadata": {},
     "output_type": "execute_result"
    }
   ],
   "source": [
    "df.size"
   ]
  },
  {
   "cell_type": "code",
   "execution_count": 405,
   "id": "c18deb14",
   "metadata": {},
   "outputs": [
    {
     "data": {
      "text/html": [
       "<div>\n",
       "<style scoped>\n",
       "    .dataframe tbody tr th:only-of-type {\n",
       "        vertical-align: middle;\n",
       "    }\n",
       "\n",
       "    .dataframe tbody tr th {\n",
       "        vertical-align: top;\n",
       "    }\n",
       "\n",
       "    .dataframe thead th {\n",
       "        text-align: right;\n",
       "    }\n",
       "</style>\n",
       "<table border=\"1\" class=\"dataframe\">\n",
       "  <thead>\n",
       "    <tr style=\"text-align: right;\">\n",
       "      <th></th>\n",
       "      <th>W</th>\n",
       "      <th>X</th>\n",
       "      <th>Y</th>\n",
       "      <th>Z</th>\n",
       "    </tr>\n",
       "  </thead>\n",
       "  <tbody>\n",
       "    <tr>\n",
       "      <th>A</th>\n",
       "      <td>-0.957667</td>\n",
       "      <td>-0.448264</td>\n",
       "      <td>-0.051915</td>\n",
       "      <td>-1.242098</td>\n",
       "    </tr>\n",
       "    <tr>\n",
       "      <th>B</th>\n",
       "      <td>1.457134</td>\n",
       "      <td>-0.360486</td>\n",
       "      <td>0.774760</td>\n",
       "      <td>1.274351</td>\n",
       "    </tr>\n",
       "    <tr>\n",
       "      <th>C</th>\n",
       "      <td>0.960571</td>\n",
       "      <td>0.224989</td>\n",
       "      <td>-1.019336</td>\n",
       "      <td>-0.742965</td>\n",
       "    </tr>\n",
       "    <tr>\n",
       "      <th>D</th>\n",
       "      <td>0.084726</td>\n",
       "      <td>1.100182</td>\n",
       "      <td>1.564261</td>\n",
       "      <td>0.046712</td>\n",
       "    </tr>\n",
       "    <tr>\n",
       "      <th>E</th>\n",
       "      <td>-0.764508</td>\n",
       "      <td>-0.293663</td>\n",
       "      <td>-0.707130</td>\n",
       "      <td>1.147353</td>\n",
       "    </tr>\n",
       "  </tbody>\n",
       "</table>\n",
       "</div>"
      ],
      "text/plain": [
       "          W         X         Y         Z\n",
       "A -0.957667 -0.448264 -0.051915 -1.242098\n",
       "B  1.457134 -0.360486  0.774760  1.274351\n",
       "C  0.960571  0.224989 -1.019336 -0.742965\n",
       "D  0.084726  1.100182  1.564261  0.046712\n",
       "E -0.764508 -0.293663 -0.707130  1.147353"
      ]
     },
     "execution_count": 405,
     "metadata": {},
     "output_type": "execute_result"
    }
   ],
   "source": [
    " df"
   ]
  },
  {
   "cell_type": "code",
   "execution_count": 408,
   "id": "d83a0beb",
   "metadata": {},
   "outputs": [
    {
     "data": {
      "text/plain": [
       "A   -0.957667\n",
       "B    1.457134\n",
       "C    0.960571\n",
       "D    0.084726\n",
       "E   -0.764508\n",
       "Name: W, dtype: float64"
      ]
     },
     "execution_count": 408,
     "metadata": {},
     "output_type": "execute_result"
    }
   ],
   "source": [
    "#To access specific column in dataframes\n",
    "\n",
    "df['W']"
   ]
  },
  {
   "cell_type": "code",
   "execution_count": 409,
   "id": "e81adec7",
   "metadata": {},
   "outputs": [
    {
     "data": {
      "text/plain": [
       "pandas.core.series.Series"
      ]
     },
     "execution_count": 409,
     "metadata": {},
     "output_type": "execute_result"
    }
   ],
   "source": [
    "#type(df['W'])"
   ]
  },
  {
   "cell_type": "code",
   "execution_count": 412,
   "id": "c0719482",
   "metadata": {},
   "outputs": [
    {
     "data": {
      "text/html": [
       "<div>\n",
       "<style scoped>\n",
       "    .dataframe tbody tr th:only-of-type {\n",
       "        vertical-align: middle;\n",
       "    }\n",
       "\n",
       "    .dataframe tbody tr th {\n",
       "        vertical-align: top;\n",
       "    }\n",
       "\n",
       "    .dataframe thead th {\n",
       "        text-align: right;\n",
       "    }\n",
       "</style>\n",
       "<table border=\"1\" class=\"dataframe\">\n",
       "  <thead>\n",
       "    <tr style=\"text-align: right;\">\n",
       "      <th></th>\n",
       "      <th>W</th>\n",
       "      <th>X</th>\n",
       "      <th>Y</th>\n",
       "    </tr>\n",
       "  </thead>\n",
       "  <tbody>\n",
       "    <tr>\n",
       "      <th>A</th>\n",
       "      <td>-0.957667</td>\n",
       "      <td>-0.448264</td>\n",
       "      <td>-0.051915</td>\n",
       "    </tr>\n",
       "    <tr>\n",
       "      <th>B</th>\n",
       "      <td>1.457134</td>\n",
       "      <td>-0.360486</td>\n",
       "      <td>0.774760</td>\n",
       "    </tr>\n",
       "    <tr>\n",
       "      <th>C</th>\n",
       "      <td>0.960571</td>\n",
       "      <td>0.224989</td>\n",
       "      <td>-1.019336</td>\n",
       "    </tr>\n",
       "    <tr>\n",
       "      <th>D</th>\n",
       "      <td>0.084726</td>\n",
       "      <td>1.100182</td>\n",
       "      <td>1.564261</td>\n",
       "    </tr>\n",
       "    <tr>\n",
       "      <th>E</th>\n",
       "      <td>-0.764508</td>\n",
       "      <td>-0.293663</td>\n",
       "      <td>-0.707130</td>\n",
       "    </tr>\n",
       "  </tbody>\n",
       "</table>\n",
       "</div>"
      ],
      "text/plain": [
       "          W         X         Y\n",
       "A -0.957667 -0.448264 -0.051915\n",
       "B  1.457134 -0.360486  0.774760\n",
       "C  0.960571  0.224989 -1.019336\n",
       "D  0.084726  1.100182  1.564261\n",
       "E -0.764508 -0.293663 -0.707130"
      ]
     },
     "execution_count": 412,
     "metadata": {},
     "output_type": "execute_result"
    }
   ],
   "source": [
    "#To access multiple columns \n",
    "\n",
    "df[['W','X','Y']]"
   ]
  },
  {
   "cell_type": "code",
   "execution_count": 415,
   "id": "d8fae4c5",
   "metadata": {},
   "outputs": [],
   "source": [
    "#To create new column \n",
    "\n",
    "df['new']=df['W']+df['Y']"
   ]
  },
  {
   "cell_type": "code",
   "execution_count": 429,
   "id": "531bcf32",
   "metadata": {},
   "outputs": [
    {
     "data": {
      "text/html": [
       "<div>\n",
       "<style scoped>\n",
       "    .dataframe tbody tr th:only-of-type {\n",
       "        vertical-align: middle;\n",
       "    }\n",
       "\n",
       "    .dataframe tbody tr th {\n",
       "        vertical-align: top;\n",
       "    }\n",
       "\n",
       "    .dataframe thead th {\n",
       "        text-align: right;\n",
       "    }\n",
       "</style>\n",
       "<table border=\"1\" class=\"dataframe\">\n",
       "  <thead>\n",
       "    <tr style=\"text-align: right;\">\n",
       "      <th></th>\n",
       "      <th>W</th>\n",
       "      <th>X</th>\n",
       "      <th>Y</th>\n",
       "      <th>Z</th>\n",
       "    </tr>\n",
       "  </thead>\n",
       "  <tbody>\n",
       "    <tr>\n",
       "      <th>A</th>\n",
       "      <td>-0.957667</td>\n",
       "      <td>-0.448264</td>\n",
       "      <td>-0.051915</td>\n",
       "      <td>-1.242098</td>\n",
       "    </tr>\n",
       "    <tr>\n",
       "      <th>B</th>\n",
       "      <td>1.457134</td>\n",
       "      <td>-0.360486</td>\n",
       "      <td>0.774760</td>\n",
       "      <td>1.274351</td>\n",
       "    </tr>\n",
       "    <tr>\n",
       "      <th>C</th>\n",
       "      <td>0.960571</td>\n",
       "      <td>0.224989</td>\n",
       "      <td>-1.019336</td>\n",
       "      <td>-0.742965</td>\n",
       "    </tr>\n",
       "    <tr>\n",
       "      <th>D</th>\n",
       "      <td>0.084726</td>\n",
       "      <td>1.100182</td>\n",
       "      <td>1.564261</td>\n",
       "      <td>0.046712</td>\n",
       "    </tr>\n",
       "    <tr>\n",
       "      <th>E</th>\n",
       "      <td>-0.764508</td>\n",
       "      <td>-0.293663</td>\n",
       "      <td>-0.707130</td>\n",
       "      <td>1.147353</td>\n",
       "    </tr>\n",
       "  </tbody>\n",
       "</table>\n",
       "</div>"
      ],
      "text/plain": [
       "          W         X         Y         Z\n",
       "A -0.957667 -0.448264 -0.051915 -1.242098\n",
       "B  1.457134 -0.360486  0.774760  1.274351\n",
       "C  0.960571  0.224989 -1.019336 -0.742965\n",
       "D  0.084726  1.100182  1.564261  0.046712\n",
       "E -0.764508 -0.293663 -0.707130  1.147353"
      ]
     },
     "execution_count": 429,
     "metadata": {},
     "output_type": "execute_result"
    }
   ],
   "source": [
    "df"
   ]
  },
  {
   "cell_type": "code",
   "execution_count": 432,
   "id": "bdfe0c27",
   "metadata": {},
   "outputs": [],
   "source": [
    "df['new']=df['W']+df['Y']"
   ]
  },
  {
   "cell_type": "code",
   "execution_count": 433,
   "id": "f7125f61",
   "metadata": {},
   "outputs": [],
   "source": [
    "df.drop(\"new\",axis=1,inplace=True)"
   ]
  },
  {
   "cell_type": "code",
   "execution_count": 434,
   "id": "dfec787d",
   "metadata": {},
   "outputs": [
    {
     "data": {
      "text/html": [
       "<div>\n",
       "<style scoped>\n",
       "    .dataframe tbody tr th:only-of-type {\n",
       "        vertical-align: middle;\n",
       "    }\n",
       "\n",
       "    .dataframe tbody tr th {\n",
       "        vertical-align: top;\n",
       "    }\n",
       "\n",
       "    .dataframe thead th {\n",
       "        text-align: right;\n",
       "    }\n",
       "</style>\n",
       "<table border=\"1\" class=\"dataframe\">\n",
       "  <thead>\n",
       "    <tr style=\"text-align: right;\">\n",
       "      <th></th>\n",
       "      <th>W</th>\n",
       "      <th>X</th>\n",
       "      <th>Y</th>\n",
       "      <th>Z</th>\n",
       "    </tr>\n",
       "  </thead>\n",
       "  <tbody>\n",
       "    <tr>\n",
       "      <th>A</th>\n",
       "      <td>-0.957667</td>\n",
       "      <td>-0.448264</td>\n",
       "      <td>-0.051915</td>\n",
       "      <td>-1.242098</td>\n",
       "    </tr>\n",
       "    <tr>\n",
       "      <th>B</th>\n",
       "      <td>1.457134</td>\n",
       "      <td>-0.360486</td>\n",
       "      <td>0.774760</td>\n",
       "      <td>1.274351</td>\n",
       "    </tr>\n",
       "    <tr>\n",
       "      <th>C</th>\n",
       "      <td>0.960571</td>\n",
       "      <td>0.224989</td>\n",
       "      <td>-1.019336</td>\n",
       "      <td>-0.742965</td>\n",
       "    </tr>\n",
       "    <tr>\n",
       "      <th>D</th>\n",
       "      <td>0.084726</td>\n",
       "      <td>1.100182</td>\n",
       "      <td>1.564261</td>\n",
       "      <td>0.046712</td>\n",
       "    </tr>\n",
       "    <tr>\n",
       "      <th>E</th>\n",
       "      <td>-0.764508</td>\n",
       "      <td>-0.293663</td>\n",
       "      <td>-0.707130</td>\n",
       "      <td>1.147353</td>\n",
       "    </tr>\n",
       "  </tbody>\n",
       "</table>\n",
       "</div>"
      ],
      "text/plain": [
       "          W         X         Y         Z\n",
       "A -0.957667 -0.448264 -0.051915 -1.242098\n",
       "B  1.457134 -0.360486  0.774760  1.274351\n",
       "C  0.960571  0.224989 -1.019336 -0.742965\n",
       "D  0.084726  1.100182  1.564261  0.046712\n",
       "E -0.764508 -0.293663 -0.707130  1.147353"
      ]
     },
     "execution_count": 434,
     "metadata": {},
     "output_type": "execute_result"
    }
   ],
   "source": [
    "df"
   ]
  },
  {
   "cell_type": "code",
   "execution_count": null,
   "id": "4d13c67a",
   "metadata": {},
   "outputs": [],
   "source": []
  }
 ],
 "metadata": {
  "kernelspec": {
   "display_name": "Python 3 (ipykernel)",
   "language": "python",
   "name": "python3"
  },
  "language_info": {
   "codemirror_mode": {
    "name": "ipython",
    "version": 3
   },
   "file_extension": ".py",
   "mimetype": "text/x-python",
   "name": "python",
   "nbconvert_exporter": "python",
   "pygments_lexer": "ipython3",
   "version": "3.10.9"
  }
 },
 "nbformat": 4,
 "nbformat_minor": 5
}
